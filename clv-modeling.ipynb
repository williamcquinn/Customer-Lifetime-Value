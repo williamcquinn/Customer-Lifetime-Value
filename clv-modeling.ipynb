{
 "cells": [
  {
   "cell_type": "code",
   "execution_count": 135,
   "metadata": {},
   "outputs": [],
   "source": [
    "import pandas as pd\n",
    "import numpy as np\n",
    "import seaborn as sns\n",
    "import matplotlib.pyplot as plt"
   ]
  },
  {
   "cell_type": "code",
   "execution_count": 3,
   "metadata": {},
   "outputs": [
    {
     "data": {
      "text/plain": [
       "'/home/jovyan/git/rsm-mgta455-homealarm-clv'"
      ]
     },
     "execution_count": 3,
     "metadata": {},
     "output_type": "execute_result"
    }
   ],
   "source": [
    "import os\n",
    "os.getcwd()"
   ]
  },
  {
   "cell_type": "code",
   "execution_count": 4,
   "metadata": {},
   "outputs": [],
   "source": [
    "churn = pd.DataFrame(\n",
    "    {\n",
    "        \"autopay\": [0.0, 0.070, 0.097, 0.103, 0.095, 0.078, 0.069, 0.059, 0.053],\n",
    "        \"no_autopay\": [0.0, 0.122, 0.162, 0.154, 0.134, 0.120, 0.111, 0.096, 0.086],\n",
    "    }\n",
    ")"
   ]
  },
  {
   "cell_type": "markdown",
   "metadata": {},
   "source": [
    "These are the variables used in the calculations with RMR being set to 40 because we are beginning with an analysis of the second year, growth rate of RMR set to 3\\% annually, the discount rate set to 10\\%, the variable and marketing costs set to 15\\% and 0.05 of RMR respectively, as well as the monthly discount formula."
   ]
  },
  {
   "cell_type": "code",
   "execution_count": 5,
   "metadata": {},
   "outputs": [],
   "source": [
    "RMR = 40 \n",
    "growth = 0.03\n",
    "discount = 0.10\n",
    "variable_cost = 0.15\n",
    "marketing_cost = 0.05\n",
    "monthly_discount = (1+discount)**(1/12)-1"
   ]
  },
  {
   "cell_type": "markdown",
   "metadata": {},
   "source": [
    "### Calculate CLV for autopay customers"
   ]
  },
  {
   "cell_type": "markdown",
   "metadata": {},
   "source": [
    "## Assumptions\n",
    "1. Looking at the autopay customers who are about to start their second year, the RMR for this year will be $40 per month and increase by 3\\% for each subsequent year\n",
    "2. We omit the 1st year churn rate of 3.2\\% because we are assuming our cohort at the start of the second year is 100\\%.\n",
    "3. We are calculating the cumulative product for churn for 8 years outward.\n",
    "4. We are ignoring installation cost because it is the same cost for autopay and non-autopay.\n",
    "5. We apply the marketing cost immediately since we are beginning our analysis at the second year and this is not the first year our cohort has been with Home Alarm so there will be marketing cost.\n",
    "6. Both autopay and non-autopay payments are occurring at the end of each month so we are calculating a CLV with a pessimistic churn.\n",
    "7. Because we are calculating with a pessimistic churn we are applying the discount rate in the first month.\n",
    "8. Discount rate compounds monthly while RMR, marketing, and variable cost growth rates compounds annually.\n",
    "9. When looking at variable and marketing costs we are considering the respective 15\\% and 5\\% cost to the RMR since they grow at the constant rate of 3\\%."
   ]
  },
  {
   "cell_type": "markdown",
   "metadata": {},
   "source": [
    "From the churn dataframe provided we first calculate the monthly churn rate of each year for autopay users, we then find the monthly active user rate. From there we use the numpy.cumprod function to find the monthly active users over each month of the 8 year period."
   ]
  },
  {
   "cell_type": "code",
   "execution_count": 51,
   "metadata": {},
   "outputs": [
    {
     "name": "stdout",
     "output_type": "stream",
     "text": [
      "0    0.000000\n",
      "1    0.006029\n",
      "2    0.008467\n",
      "3    0.009017\n",
      "4    0.008284\n",
      "5    0.006745\n",
      "6    0.005940\n",
      "7    0.005055\n",
      "8    0.004528\n",
      "Name: autopay, dtype: float64\n",
      "0    1.000000\n",
      "0    1.000000\n",
      "0    1.000000\n",
      "0    1.000000\n",
      "0    1.000000\n",
      "       ...   \n",
      "8    0.995472\n",
      "8    0.995472\n",
      "8    0.995472\n",
      "8    0.995472\n",
      "8    0.995472\n",
      "Name: autopay, Length: 108, dtype: float64\n",
      "0    1.000000\n",
      "0    1.000000\n",
      "0    1.000000\n",
      "0    1.000000\n",
      "0    1.000000\n",
      "       ...   \n",
      "8    0.531025\n",
      "8    0.528621\n",
      "8    0.526228\n",
      "8    0.523845\n",
      "8    0.521473\n",
      "Name: autopay, Length: 108, dtype: float64\n"
     ]
    }
   ],
   "source": [
    "monthly_churn = 1 - ((1 - churn['autopay'])**(1/12))\n",
    "print(monthly_churn)\n",
    "monthly_active = (1 - monthly_churn).repeat(12)\n",
    "print(monthly_active)\n",
    "cumulative_monthly = np.cumprod(monthly_active)\n",
    "print(cumulative_monthly)"
   ]
  },
  {
   "cell_type": "markdown",
   "metadata": {},
   "source": [
    "This code below calculates the customer profit by subtracting the variable cost and marketing cost, these grow at the same 3\\% rate annually as the RMR, so they can be subtracted outright as a percentage of the RMR."
   ]
  },
  {
   "cell_type": "code",
   "execution_count": 72,
   "metadata": {
    "lines_to_next_cell": 2
   },
   "outputs": [
    {
     "name": "stdout",
     "output_type": "stream",
     "text": [
      "[32. 32. 32. 32. 32. 32. 32. 32. 32. 32. 32. 32. 32. 32. 32. 32. 32. 32.\n",
      " 32. 32. 32. 32. 32. 32. 32. 32. 32. 32. 32. 32. 32. 32. 32. 32. 32. 32.\n",
      " 32. 32. 32. 32. 32. 32. 32. 32. 32. 32. 32. 32. 32. 32. 32. 32. 32. 32.\n",
      " 32. 32. 32. 32. 32. 32. 32. 32. 32. 32. 32. 32. 32. 32. 32. 32. 32. 32.\n",
      " 32. 32. 32. 32. 32. 32. 32. 32. 32. 32. 32. 32. 32. 32. 32. 32. 32. 32.\n",
      " 32. 32. 32. 32. 32. 32. 32. 32. 32. 32. 32. 32. 32. 32. 32. 32. 32. 32.]\n"
     ]
    }
   ],
   "source": [
    "RMRyear = np.repeat(RMR, 108)\n",
    "profit = RMRyear*(1 - variable_cost - marketing_cost)\n",
    "print(profit)"
   ]
  },
  {
   "cell_type": "markdown",
   "metadata": {},
   "source": [
    "To calculate the growth rate of the RMR, below is a numpy array created that has the annually compounding growth rate that will be multiplied by the RMR."
   ]
  },
  {
   "cell_type": "code",
   "execution_count": 35,
   "metadata": {},
   "outputs": [
    {
     "data": {
      "text/plain": [
       "array([1.        , 1.        , 1.        , 1.        , 1.        ,\n",
       "       1.        , 1.        , 1.        , 1.        , 1.        ,\n",
       "       1.        , 1.        , 1.03      , 1.03      , 1.03      ,\n",
       "       1.03      , 1.03      , 1.03      , 1.03      , 1.03      ,\n",
       "       1.03      , 1.03      , 1.03      , 1.03      , 1.0609    ,\n",
       "       1.0609    , 1.0609    , 1.0609    , 1.0609    , 1.0609    ,\n",
       "       1.0609    , 1.0609    , 1.0609    , 1.0609    , 1.0609    ,\n",
       "       1.0609    , 1.092727  , 1.092727  , 1.092727  , 1.092727  ,\n",
       "       1.092727  , 1.092727  , 1.092727  , 1.092727  , 1.092727  ,\n",
       "       1.092727  , 1.092727  , 1.092727  , 1.12550881, 1.12550881,\n",
       "       1.12550881, 1.12550881, 1.12550881, 1.12550881, 1.12550881,\n",
       "       1.12550881, 1.12550881, 1.12550881, 1.12550881, 1.12550881,\n",
       "       1.15927407, 1.15927407, 1.15927407, 1.15927407, 1.15927407,\n",
       "       1.15927407, 1.15927407, 1.15927407, 1.15927407, 1.15927407,\n",
       "       1.15927407, 1.15927407, 1.1940523 , 1.1940523 , 1.1940523 ,\n",
       "       1.1940523 , 1.1940523 , 1.1940523 , 1.1940523 , 1.1940523 ,\n",
       "       1.1940523 , 1.1940523 , 1.1940523 , 1.1940523 , 1.22987387,\n",
       "       1.22987387, 1.22987387, 1.22987387, 1.22987387, 1.22987387,\n",
       "       1.22987387, 1.22987387, 1.22987387, 1.22987387, 1.22987387,\n",
       "       1.22987387, 1.26677008, 1.26677008, 1.26677008, 1.26677008,\n",
       "       1.26677008, 1.26677008, 1.26677008, 1.26677008, 1.26677008,\n",
       "       1.26677008, 1.26677008, 1.26677008])"
      ]
     },
     "execution_count": 35,
     "metadata": {},
     "output_type": "execute_result"
    }
   ],
   "source": [
    "j = np.array([0,1,2,3,4,5,6,7,8])\n",
    "growth_rate = ((1+growth)**j).repeat(12)\n",
    "print(growth_rate)"
   ]
  },
  {
   "cell_type": "markdown",
   "metadata": {},
   "source": [
    "The expected profit on average can be found by multiplying the customer profit and the annual growth rate from above."
   ]
  },
  {
   "cell_type": "code",
   "execution_count": 42,
   "metadata": {},
   "outputs": [
    {
     "name": "stdout",
     "output_type": "stream",
     "text": [
      "[32.         32.         32.         32.         32.         32.\n",
      " 32.         32.         32.         32.         32.         32.\n",
      " 32.96       32.96       32.96       32.96       32.96       32.96\n",
      " 32.96       32.96       32.96       32.96       32.96       32.96\n",
      " 33.9488     33.9488     33.9488     33.9488     33.9488     33.9488\n",
      " 33.9488     33.9488     33.9488     33.9488     33.9488     33.9488\n",
      " 34.967264   34.967264   34.967264   34.967264   34.967264   34.967264\n",
      " 34.967264   34.967264   34.967264   34.967264   34.967264   34.967264\n",
      " 36.01628192 36.01628192 36.01628192 36.01628192 36.01628192 36.01628192\n",
      " 36.01628192 36.01628192 36.01628192 36.01628192 36.01628192 36.01628192\n",
      " 37.09677038 37.09677038 37.09677038 37.09677038 37.09677038 37.09677038\n",
      " 37.09677038 37.09677038 37.09677038 37.09677038 37.09677038 37.09677038\n",
      " 38.20967349 38.20967349 38.20967349 38.20967349 38.20967349 38.20967349\n",
      " 38.20967349 38.20967349 38.20967349 38.20967349 38.20967349 38.20967349\n",
      " 39.35596369 39.35596369 39.35596369 39.35596369 39.35596369 39.35596369\n",
      " 39.35596369 39.35596369 39.35596369 39.35596369 39.35596369 39.35596369\n",
      " 40.5366426  40.5366426  40.5366426  40.5366426  40.5366426  40.5366426\n",
      " 40.5366426  40.5366426  40.5366426  40.5366426  40.5366426  40.5366426 ]\n"
     ]
    }
   ],
   "source": [
    "exp_profit = profit * growth_rate\n",
    "print(exp_profit)"
   ]
  },
  {
   "cell_type": "markdown",
   "metadata": {},
   "source": [
    "The discounted RMR can be calculated by dividing the expected profit by 1 plus the monthly discount formula to the power of 108 for each month of the 8 years."
   ]
  },
  {
   "cell_type": "code",
   "execution_count": 44,
   "metadata": {},
   "outputs": [
    {
     "name": "stdout",
     "output_type": "stream",
     "text": [
      "[32.         31.74684619 31.49569509 31.24653087 30.9993378  30.75410028\n",
      " 30.51080286 30.26943017 30.029967   29.79239823 29.55670888 29.32288409\n",
      " 29.96363636 29.72659234 29.49142359 29.25811527 29.02665266 28.79702117\n",
      " 28.56920631 28.3431937  28.1189691  27.89651834 27.67582741 27.45688237\n",
      " 28.0568595  27.8349001  27.61469663 27.39623521 27.17950204 26.96448346\n",
      " 26.75116591 26.53953592 26.32958015 26.12128536 25.91463839 25.70962622\n",
      " 26.27142299 26.06358828 25.85739776 25.65283842 25.44989736 25.24856179\n",
      " 25.04881899 24.85065636 24.65406142 24.45902174 24.26552504 24.0735591\n",
      " 24.59960516 24.4049963  24.21192699 24.02038507 23.83035844 23.64183513\n",
      " 23.45480323 23.26925096 23.0851666  22.90253854 22.72135526 22.54160534\n",
      " 23.03417574 22.85195108 22.671168   22.49181511 22.31388109 22.13735471\n",
      " 21.96222485 21.78848044 21.61611054 21.44510427 21.27545084 21.10713954\n",
      " 21.56836456 21.39773601 21.22845731 21.06051778 20.89390684 20.72861396\n",
      " 20.56462872 20.40194078 20.24053987 20.08041582 19.92155851 19.76395793\n",
      " 20.19583227 20.0360619  19.87755548 19.72030301 19.56429458 19.40952034\n",
      " 19.25597053 19.10363546 18.95250552 18.80257117 18.65382297 18.50625152\n",
      " 18.91064294 18.76103978 18.61262013 18.46537464 18.31929402 18.17436905\n",
      " 18.03059059 17.88794956 17.74643698 17.60604392 17.46676151 17.32858097]\n"
     ]
    }
   ],
   "source": [
    "i = np.array(range(108))\n",
    "discounted = exp_profit / ((1+monthly_discount)**i) \n",
    "print(discounted)"
   ]
  },
  {
   "cell_type": "markdown",
   "metadata": {},
   "source": [
    "Lastly we can find the CLV of autopay customers by multiplying the discounted expected profits by the monthly churn rate, then by taking the sum of values from the second through ninth year we have our CLV for autopay customers __(1627.2852337064621)__."
   ]
  },
  {
   "cell_type": "code",
   "execution_count": 142,
   "metadata": {},
   "outputs": [
    {
     "name": "stdout",
     "output_type": "stream",
     "text": [
      "0    32.000000\n",
      "0    31.746846\n",
      "0    31.495695\n",
      "0    31.246531\n",
      "0    30.999338\n",
      "       ...    \n",
      "8     9.498955\n",
      "8     9.381140\n",
      "8     9.264786\n",
      "8     9.149875\n",
      "8     9.036389\n",
      "Name: autopay, Length: 108, dtype: float64\n",
      "1      29.782976\n",
      "1      59.152188\n",
      "1      88.113383\n",
      "1     116.672229\n",
      "1     144.834317\n",
      "        ...     \n",
      "8    1590.453044\n",
      "8    1599.834184\n",
      "8    1609.098970\n",
      "8    1618.248845\n",
      "8    1627.285234\n",
      "Name: autopay, Length: 96, dtype: float64\n",
      "1627.2852337064621\n"
     ]
    }
   ],
   "source": [
    "pv_profit = discounted * cumulative_monthly\n",
    "print(pv_profit)\n",
    "npv = np.cumsum(pv_profit[12:])\n",
    "print(npv)\n",
    "autopay_clv = sum(pv_profit[12:])\n",
    "print(autopay_clv)"
   ]
  },
  {
   "cell_type": "markdown",
   "metadata": {},
   "source": [
    "### Calculate CLV for non-autopay customers"
   ]
  },
  {
   "cell_type": "markdown",
   "metadata": {},
   "source": [
    "## Assumptions\n",
    "1. Looking at the non-autopay customers who are about to start their second year, the RMR for this year will be $40 per month and increase by 3\\% for each subsequent year.\n",
    "2. We omit the 1st year churn rate of 8.4\\% because we are assuming our cohort for non-autopay at the start of the second year is 100\\%.\n",
    "3. We are calculating the cumulative product for churn for 8 years out.\n",
    "4. We are ignoring installation cost because it is the same cost for autopay and non-autopay.\n",
    "5. We apply the marketing cost immediately since we are beginning our analysis at the second year and this is not the first year our cohort has been with Home Alarm so there will be marketing cost.\n",
    "6. Both autopay and non-autopay payments are occurring at the end of each month so we are calculating a CLV with a pessimistic churn.\n",
    "7. Because we are calculating with a pessimistic churn we are applying the discount rate in the first month.\n",
    "8. Discount rate compounds monthly while RMR, marketing, and variable cost growth rates compounds annually.\n",
    "9. When looking at variable and marketing costs we are considering the respective 15\\% and 5\\% cost to the RMR since they grow at the constant rate of 3\\%."
   ]
  },
  {
   "cell_type": "markdown",
   "metadata": {},
   "source": [
    "We are using the same variables as above to calculate the CLV for non-autopay customers. \n",
    "\n",
    "From the churn dataframe provided we first calculate the monthly churn rate of each year for non-autopay users, we then find the monthly active user rate. From there we use the numpy.cumprod function to find the monthly active users over the 8 year period."
   ]
  },
  {
   "cell_type": "code",
   "execution_count": 60,
   "metadata": {},
   "outputs": [
    {
     "name": "stdout",
     "output_type": "stream",
     "text": [
      "0    0.000000\n",
      "1    0.010784\n",
      "2    0.014620\n",
      "3    0.013840\n",
      "4    0.011918\n",
      "5    0.010596\n",
      "6    0.009757\n",
      "7    0.008375\n",
      "8    0.007466\n",
      "Name: no_autopay, dtype: float64\n",
      "0    1.000000\n",
      "0    1.000000\n",
      "0    1.000000\n",
      "0    1.000000\n",
      "0    1.000000\n",
      "       ...   \n",
      "8    0.992534\n",
      "8    0.992534\n",
      "8    0.992534\n",
      "8    0.992534\n",
      "8    0.992534\n",
      "Name: no_autopay, Length: 108, dtype: float64\n",
      "0    1.000000\n",
      "0    1.000000\n",
      "0    1.000000\n",
      "0    1.000000\n",
      "0    1.000000\n",
      "       ...   \n",
      "8    0.359041\n",
      "8    0.356360\n",
      "8    0.353700\n",
      "8    0.351059\n",
      "8    0.348438\n",
      "Name: no_autopay, Length: 108, dtype: float64\n"
     ]
    }
   ],
   "source": [
    "monthly_churn2 = 1 - ((1 - churn['no_autopay'])**(1/12))\n",
    "print(monthly_churn2)\n",
    "monthly_active2 = (1 - monthly_churn2).repeat(12)\n",
    "print(monthly_active2)\n",
    "cumulative_monthly2 = np.cumprod(monthly_active2)\n",
    "print(cumulative_monthly2)"
   ]
  },
  {
   "cell_type": "markdown",
   "metadata": {},
   "source": [
    "This code below calculates the customer profit by subtracting the variable cost and marketing cost, these grow at the same 3\\% rate annually as the RMR, so they can be subtracted outright as a percentage of the RMR. \n",
    "\n",
    "#### The following code, until where the net present value is calculated, is the same as the above calculations for autopay customers."
   ]
  },
  {
   "cell_type": "code",
   "execution_count": 53,
   "metadata": {},
   "outputs": [],
   "source": [
    "RMRyear = np.repeat(RMR, 108)\n",
    "profit = RMRyear*(1 - variable_cost - marketing_cost)"
   ]
  },
  {
   "cell_type": "markdown",
   "metadata": {},
   "source": [
    "To calculate the growth rate of the RMR, below is a numpy array created that has the annually compounding growth rate that will be multiplied by the RMR."
   ]
  },
  {
   "cell_type": "code",
   "execution_count": 54,
   "metadata": {},
   "outputs": [
    {
     "name": "stdout",
     "output_type": "stream",
     "text": [
      "[1.         1.         1.         1.         1.         1.\n",
      " 1.         1.         1.         1.         1.         1.\n",
      " 1.03       1.03       1.03       1.03       1.03       1.03\n",
      " 1.03       1.03       1.03       1.03       1.03       1.03\n",
      " 1.0609     1.0609     1.0609     1.0609     1.0609     1.0609\n",
      " 1.0609     1.0609     1.0609     1.0609     1.0609     1.0609\n",
      " 1.092727   1.092727   1.092727   1.092727   1.092727   1.092727\n",
      " 1.092727   1.092727   1.092727   1.092727   1.092727   1.092727\n",
      " 1.12550881 1.12550881 1.12550881 1.12550881 1.12550881 1.12550881\n",
      " 1.12550881 1.12550881 1.12550881 1.12550881 1.12550881 1.12550881\n",
      " 1.15927407 1.15927407 1.15927407 1.15927407 1.15927407 1.15927407\n",
      " 1.15927407 1.15927407 1.15927407 1.15927407 1.15927407 1.15927407\n",
      " 1.1940523  1.1940523  1.1940523  1.1940523  1.1940523  1.1940523\n",
      " 1.1940523  1.1940523  1.1940523  1.1940523  1.1940523  1.1940523\n",
      " 1.22987387 1.22987387 1.22987387 1.22987387 1.22987387 1.22987387\n",
      " 1.22987387 1.22987387 1.22987387 1.22987387 1.22987387 1.22987387\n",
      " 1.26677008 1.26677008 1.26677008 1.26677008 1.26677008 1.26677008\n",
      " 1.26677008 1.26677008 1.26677008 1.26677008 1.26677008 1.26677008]\n"
     ]
    }
   ],
   "source": [
    "j = np.array([0,1,2,3,4,5,6,7,8])\n",
    "growth_rate = ((1+growth)**j).repeat(12)\n",
    "print(growth_rate)"
   ]
  },
  {
   "cell_type": "markdown",
   "metadata": {},
   "source": [
    "The expected profit on average can be found by multiplying the customer profit and the annual growth rate from above."
   ]
  },
  {
   "cell_type": "code",
   "execution_count": 55,
   "metadata": {},
   "outputs": [
    {
     "name": "stdout",
     "output_type": "stream",
     "text": [
      "[32.         32.         32.         32.         32.         32.\n",
      " 32.         32.         32.         32.         32.         32.\n",
      " 32.96       32.96       32.96       32.96       32.96       32.96\n",
      " 32.96       32.96       32.96       32.96       32.96       32.96\n",
      " 33.9488     33.9488     33.9488     33.9488     33.9488     33.9488\n",
      " 33.9488     33.9488     33.9488     33.9488     33.9488     33.9488\n",
      " 34.967264   34.967264   34.967264   34.967264   34.967264   34.967264\n",
      " 34.967264   34.967264   34.967264   34.967264   34.967264   34.967264\n",
      " 36.01628192 36.01628192 36.01628192 36.01628192 36.01628192 36.01628192\n",
      " 36.01628192 36.01628192 36.01628192 36.01628192 36.01628192 36.01628192\n",
      " 37.09677038 37.09677038 37.09677038 37.09677038 37.09677038 37.09677038\n",
      " 37.09677038 37.09677038 37.09677038 37.09677038 37.09677038 37.09677038\n",
      " 38.20967349 38.20967349 38.20967349 38.20967349 38.20967349 38.20967349\n",
      " 38.20967349 38.20967349 38.20967349 38.20967349 38.20967349 38.20967349\n",
      " 39.35596369 39.35596369 39.35596369 39.35596369 39.35596369 39.35596369\n",
      " 39.35596369 39.35596369 39.35596369 39.35596369 39.35596369 39.35596369\n",
      " 40.5366426  40.5366426  40.5366426  40.5366426  40.5366426  40.5366426\n",
      " 40.5366426  40.5366426  40.5366426  40.5366426  40.5366426  40.5366426 ]\n"
     ]
    }
   ],
   "source": [
    "exp_profit = profit * growth_rate\n",
    "print(exp_profit)"
   ]
  },
  {
   "cell_type": "markdown",
   "metadata": {},
   "source": [
    "The discounted RMR can be calculated by dividing the expected profit by 1 plus the monthly discount formula to the power of 108."
   ]
  },
  {
   "cell_type": "code",
   "execution_count": 56,
   "metadata": {},
   "outputs": [
    {
     "name": "stdout",
     "output_type": "stream",
     "text": [
      "[32.         31.74684619 31.49569509 31.24653087 30.9993378  30.75410028\n",
      " 30.51080286 30.26943017 30.029967   29.79239823 29.55670888 29.32288409\n",
      " 29.96363636 29.72659234 29.49142359 29.25811527 29.02665266 28.79702117\n",
      " 28.56920631 28.3431937  28.1189691  27.89651834 27.67582741 27.45688237\n",
      " 28.0568595  27.8349001  27.61469663 27.39623521 27.17950204 26.96448346\n",
      " 26.75116591 26.53953592 26.32958015 26.12128536 25.91463839 25.70962622\n",
      " 26.27142299 26.06358828 25.85739776 25.65283842 25.44989736 25.24856179\n",
      " 25.04881899 24.85065636 24.65406142 24.45902174 24.26552504 24.0735591\n",
      " 24.59960516 24.4049963  24.21192699 24.02038507 23.83035844 23.64183513\n",
      " 23.45480323 23.26925096 23.0851666  22.90253854 22.72135526 22.54160534\n",
      " 23.03417574 22.85195108 22.671168   22.49181511 22.31388109 22.13735471\n",
      " 21.96222485 21.78848044 21.61611054 21.44510427 21.27545084 21.10713954\n",
      " 21.56836456 21.39773601 21.22845731 21.06051778 20.89390684 20.72861396\n",
      " 20.56462872 20.40194078 20.24053987 20.08041582 19.92155851 19.76395793\n",
      " 20.19583227 20.0360619  19.87755548 19.72030301 19.56429458 19.40952034\n",
      " 19.25597053 19.10363546 18.95250552 18.80257117 18.65382297 18.50625152\n",
      " 18.91064294 18.76103978 18.61262013 18.46537464 18.31929402 18.17436905\n",
      " 18.03059059 17.88794956 17.74643698 17.60604392 17.46676151 17.32858097]\n"
     ]
    }
   ],
   "source": [
    "i = np.array(range(108))\n",
    "discounted = exp_profit / ((1+monthly_discount)**i) \n",
    "print(discounted)"
   ]
  },
  {
   "cell_type": "markdown",
   "metadata": {},
   "source": [
    "#### The code below uses the new variable cumulative_monthly2 to calculate the CLV of non-autopay users.\n",
    "\n",
    "Lastly we can find the CLV of non-autopay customers by multiplying the discounted expected profits by the monthly churn rate, then by taking the sum of values from the second through ninth year we have our CLV for non-autopay customers __(1361.456029065212)__."
   ]
  },
  {
   "cell_type": "code",
   "execution_count": 127,
   "metadata": {},
   "outputs": [
    {
     "name": "stdout",
     "output_type": "stream",
     "text": [
      "0    32.000000\n",
      "0    31.746846\n",
      "0    31.495695\n",
      "0    31.246531\n",
      "0    30.999338\n",
      "       ...    \n",
      "8     6.422503\n",
      "8     6.324125\n",
      "8     6.227254\n",
      "8     6.131867\n",
      "8     6.037941\n",
      "Name: no_autopay, Length: 108, dtype: float64\n",
      "1      29.640514\n",
      "1      58.729430\n",
      "1      87.277015\n",
      "1     115.293341\n",
      "1     142.788295\n",
      "        ...     \n",
      "8    1336.734842\n",
      "8    1343.058967\n",
      "8    1349.286221\n",
      "8    1355.418088\n",
      "8    1361.456029\n",
      "Name: no_autopay, Length: 96, dtype: float64\n",
      "1361.456029065212\n"
     ]
    }
   ],
   "source": [
    "pv_profit2 = discounted * cumulative_monthly2\n",
    "print(pv_profit2)\n",
    "npv2 = np.cumsum(pv_profit2[12:])\n",
    "print(npv2)\n",
    "nonautopay_clv = sum(pv_profit2[12:])\n",
    "print(nonautopay_clv)"
   ]
  },
  {
   "cell_type": "markdown",
   "metadata": {},
   "source": [
    "### Create a line graph of CLV for both autopay and non-autopay customer "
   ]
  },
  {
   "cell_type": "code",
   "execution_count": 137,
   "metadata": {},
   "outputs": [
    {
     "name": "stdout",
     "output_type": "stream",
     "text": [
      "    Months Payment Type          CLV\n",
      "1        1      autopay    29.782976\n",
      "1        2      autopay    59.152188\n",
      "1        3      autopay    88.113383\n",
      "1        4      autopay   116.672229\n",
      "1        5      autopay   144.834317\n",
      "..     ...          ...          ...\n",
      "8       92   no_autopay  1336.734842\n",
      "8       93   no_autopay  1343.058967\n",
      "8       94   no_autopay  1349.286221\n",
      "8       95   no_autopay  1355.418088\n",
      "8       96   no_autopay  1361.456029\n",
      "\n",
      "[192 rows x 3 columns]\n"
     ]
    },
    {
     "name": "stderr",
     "output_type": "stream",
     "text": [
      "/usr/local/lib/python3.8/dist-packages/IPython/core/interactiveshell.py:3418: FutureWarning: This dataframe has a column name that matches the 'value_name' column name of the resulting Dataframe. In the future this will raise an error, please set the 'value_name' parameter of DataFrame.melt to a unique name.\n",
      "  exec(code_obj, self.user_global_ns, self.user_ns)\n"
     ]
    },
    {
     "data": {
      "image/png": "[encoded data removed]",
      "text/plain": [
       "<Figure size 463.85x360 with 1 Axes>"
      ]
     },
     "metadata": {},
     "output_type": "display_data"
    }
   ],
   "source": [
    "j = list(range(1,97))\n",
    "ap = [\"autopay\"]\n",
    "ap = np.repeat(ap, 96)\n",
    "nap = [\"no_autopay\"]\n",
    "nap = np.repeat(nap, 96)\n",
    "\n",
    "autopay_dict = {\"Months\": j, \"Payment Type\": ap, \"CLV\": npv}\n",
    "nonautopay_dict = {\"Months\": j, \"Payment Type\": nap, \"CLV\": npv2}\n",
    "\n",
    "df1= pd.DataFrame(data=autopay_dict)\n",
    "df2= pd.DataFrame(data=nonautopay_dict)\n",
    "df= df1.append(df2)\n",
    "print(df)\n",
    "\n",
    "melt = pd.melt(df, id_vars = [\"Months\"], var_name= \"Payment Type\", value_name='CLV')\n",
    "sns.set(style = 'whitegrid')\n",
    "b = sns.relplot(x = \"Months\", y= \"CLV\", hue = \"Payment Type\", data=df, kind = \"line\")\n",
    "b.fig.suptitle(\"CLV for Autopay and Non-Autopay Customers\")\n",
    "plt.show()"
   ]
  },
  {
   "cell_type": "markdown",
   "metadata": {},
   "source": [
    "### Create a line graph of the retention rate for both autopay and non-autopay customer "
   ]
  },
  {
   "cell_type": "code",
   "execution_count": 133,
   "metadata": {},
   "outputs": [
    {
     "name": "stdout",
     "output_type": "stream",
     "text": [
      "    Months Payment Type  Retention\n",
      "1        1      autopay   0.993971\n",
      "1        2      autopay   0.987978\n",
      "1        3      autopay   0.982021\n",
      "1        4      autopay   0.976100\n",
      "1        5      autopay   0.970215\n",
      "..     ...          ...        ...\n",
      "8       92   no_autopay   0.359041\n",
      "8       93   no_autopay   0.356360\n",
      "8       94   no_autopay   0.353700\n",
      "8       95   no_autopay   0.351059\n",
      "8       96   no_autopay   0.348438\n",
      "\n",
      "[192 rows x 3 columns]\n"
     ]
    },
    {
     "name": "stderr",
     "output_type": "stream",
     "text": [
      "/usr/local/lib/python3.8/dist-packages/IPython/core/interactiveshell.py:3418: FutureWarning: This dataframe has a column name that matches the 'value_name' column name of the resulting Dataframe. In the future this will raise an error, please set the 'value_name' parameter of DataFrame.melt to a unique name.\n",
      "  exec(code_obj, self.user_global_ns, self.user_ns)\n"
     ]
    },
    {
     "data": {
      "text/plain": [
       "Text(0.5, 0.98, 'Retention Rate for Autopay and Non-Autopay Customers')"
      ]
     },
     "execution_count": 133,
     "metadata": {},
     "output_type": "execute_result"
    },
    {
     "data": {
      "image/png": "[encoded data removed]",
      "text/plain": [
       "<Figure size 463.85x360 with 1 Axes>"
      ]
     },
     "metadata": {},
     "output_type": "display_data"
    }
   ],
   "source": [
    "j = list(range(1,97))\n",
    "ap = [\"autopay\"]\n",
    "ap = np.repeat(ap, 96)\n",
    "nap = [\"no_autopay\"]\n",
    "nap = np.repeat(nap, 96)\n",
    "\n",
    "autopay_dict = {\"Months\": j, \"Payment Type\": ap, \"Retention\": cumulative_monthly[12:]}\n",
    "nonautopay_dict = {\"Months\": j, \"Payment Type\": nap, \"Retention\": cumulative_monthly2[12:]}\n",
    "\n",
    "df1= pd.DataFrame(data=autopay_dict)\n",
    "df2= pd.DataFrame(data=nonautopay_dict)\n",
    "df= df1.append(df2)\n",
    "print(df)\n",
    "\n",
    "melt = pd.melt(df, id_vars = [\"Months\"], var_name= \"Payment Type\", value_name='Retention')\n",
    "sns.set(style = 'whitegrid')\n",
    "a = sns.relplot(x = \"Months\", y= \"Retention\", hue = \"Payment Type\", data=df, kind = \"line\")\n",
    "a.fig.suptitle(\"Retention Rate for Autopay and Non-Autopay Customers\")"
   ]
  },
  {
   "cell_type": "markdown",
   "metadata": {},
   "source": [
    "### Calculate the maximum amount to spend on autopay incentives"
   ]
  },
  {
   "cell_type": "markdown",
   "metadata": {},
   "source": [
    "The max pay to calculate how much Home Alarm should spend on attempting to convert customers to autopay is calculated by the autopay CLV minus the nonautopay CLV."
   ]
  },
  {
   "cell_type": "code",
   "execution_count": 141,
   "metadata": {},
   "outputs": [
    {
     "name": "stdout",
     "output_type": "stream",
     "text": [
      "Maxium amount to spend on autopay incentives is 265.83\n"
     ]
    }
   ],
   "source": [
    "max_pay = autopay_clv - nonautopay_clv\n",
    "\n",
    "print(f\"Maxium amount to spend on autopay incentives is {round(max_pay,2)}\")"
   ]
  },
  {
   "cell_type": "markdown",
   "metadata": {},
   "source": [
    "### Suggested marketing actions\n",
    "\n",
    "Suggest three marketing actions Home Alarm should consider to convert existing customers to autopay who are about to start their second year with Home Alarm. Be specific about incentive amounts you recommend using (if any)"
   ]
  },
  {
   "cell_type": "markdown",
   "metadata": {},
   "source": [
    "1. The first marketing action I would recommend would be to offer a 10% discount for non-autopay users to convert to autopay. Most customers on monthly payment plans would rather see a drop in their monthly cost than anything else, and this discount would fall under the allowable max pay to convert the customer when considering the CLV of each."
   ]
  },
  {
   "cell_type": "code",
   "execution_count": 143,
   "metadata": {},
   "outputs": [
    {
     "name": "stdout",
     "output_type": "stream",
     "text": [
      "103.1006812706039\n"
     ]
    }
   ],
   "source": [
    "max_pay_with_discount = (autopay_clv * .90) - nonautopay_clv\n",
    "print(max_pay_with_discount)"
   ]
  },
  {
   "cell_type": "markdown",
   "metadata": {},
   "source": [
    "2. Another marketing I would recommend home alarm to take would be to return the installation cost of \\\\$195 to the non-autopay customer upon their switch to autopay. Home Alarm would take on the additional cost of the installation charge of \\\\$195 on top of the \\\\$492 cost to the firm."
   ]
  },
  {
   "cell_type": "code",
   "execution_count": 145,
   "metadata": {},
   "outputs": [
    {
     "name": "stdout",
     "output_type": "stream",
     "text": [
      "70.82920464125004\n"
     ]
    }
   ],
   "source": [
    "installation_fee = 195\n",
    "max_pay_with_returned_fee = (autopay_clv - installation_fee) - nonautopay_clv\n",
    "print(max_pay_with_returned_fee)"
   ]
  },
  {
   "cell_type": "markdown",
   "metadata": {},
   "source": [
    "3. Lastly, I would create a technical service department with at home technical support at no cost to autopay user, while the non-autopay user would be charged \\\\$30 per visit, the autopay subscriber would be allowed one free support visit at no cost to them per year. This should be incentive enough for the non-autopay subscriber to switch to autopay assuming one technical support visit per year."
   ]
  },
  {
   "cell_type": "code",
   "execution_count": 146,
   "metadata": {},
   "outputs": [
    {
     "name": "stdout",
     "output_type": "stream",
     "text": [
      "25.829204641250044\n"
     ]
    }
   ],
   "source": [
    "technical_support_cost = 30\n",
    "max_pay_with_technical_support = (autopay_clv - (technical_support_cost * 8)) - nonautopay_clv\n",
    "print(max_pay_with_technical_support)"
   ]
  }
 ],
 "metadata": {
  "jupytext": {
   "formats": "ipynb,py:percent"
  },
  "kernelspec": {
   "display_name": "Python 3",
   "language": "python",
   "name": "python3"
  },
  "language_info": {
   "codemirror_mode": {
    "name": "ipython",
    "version": 3
   },
   "file_extension": ".py",
   "mimetype": "text/x-python",
   "name": "python",
   "nbconvert_exporter": "python",
   "pygments_lexer": "ipython3",
   "version": "3.8.5"
  }
 },
 "nbformat": 4,
 "nbformat_minor": 4
}
